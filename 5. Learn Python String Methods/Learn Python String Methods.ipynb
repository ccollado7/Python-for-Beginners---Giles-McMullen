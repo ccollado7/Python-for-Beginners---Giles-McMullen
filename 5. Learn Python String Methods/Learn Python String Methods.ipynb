{
 "cells": [
  {
   "cell_type": "markdown",
   "metadata": {},
   "source": [
    "# Python String Slicing"
   ]
  },
  {
   "cell_type": "markdown",
   "metadata": {},
   "source": [
    "We look at python strings and python string methods. A method is a pre written function that performs a task for you. We look specifically at count(), find(), upper(), lower() and split(). We also learn about Jupyter notebook tab completion."
   ]
  },
  {
   "cell_type": "code",
   "execution_count": 3,
   "metadata": {},
   "outputs": [],
   "source": [
    "my_string = \"As I was going to St Ives, I met a man with seven wives.\""
   ]
  },
  {
   "cell_type": "code",
   "execution_count": 5,
   "metadata": {},
   "outputs": [
    {
     "data": {
      "text/plain": [
       "56"
      ]
     },
     "execution_count": 5,
     "metadata": {},
     "output_type": "execute_result"
    }
   ],
   "source": [
    "len(my_string) #Cuento la cantidad de caracteres del string"
   ]
  },
  {
   "cell_type": "code",
   "execution_count": 8,
   "metadata": {},
   "outputs": [
    {
     "data": {
      "text/plain": [
       "'AS I WAS GOING TO ST IVES, I MET A MAN WITH SEVEN WIVES.'"
      ]
     },
     "execution_count": 8,
     "metadata": {},
     "output_type": "execute_result"
    }
   ],
   "source": [
    "#Utilizo el metodo .upper() para transformar todos los caracteres a mayuscula\n",
    "\n",
    "my_string.upper() "
   ]
  },
  {
   "cell_type": "code",
   "execution_count": 10,
   "metadata": {},
   "outputs": [
    {
     "data": {
      "text/plain": [
       "'as i was going to st ives, i met a man with seven wives.'"
      ]
     },
     "execution_count": 10,
     "metadata": {},
     "output_type": "execute_result"
    }
   ],
   "source": [
    "#Utilizo el metodo .lower() para transformar todos los caracteres a minuscula\n",
    "\n",
    "my_string.lower() "
   ]
  },
  {
   "cell_type": "code",
   "execution_count": 12,
   "metadata": {},
   "outputs": [
    {
     "data": {
      "text/plain": [
       "['As',\n",
       " 'I',\n",
       " 'was',\n",
       " 'going',\n",
       " 'to',\n",
       " 'St',\n",
       " 'Ives,',\n",
       " 'I',\n",
       " 'met',\n",
       " 'a',\n",
       " 'man',\n",
       " 'with',\n",
       " 'seven',\n",
       " 'wives.']"
      ]
     },
     "execution_count": 12,
     "metadata": {},
     "output_type": "execute_result"
    }
   ],
   "source": [
    "#Utilizo el metodo .split() para separar el string en palabras y las coloca en una lista []\n",
    "\n",
    "my_string.split() "
   ]
  },
  {
   "cell_type": "code",
   "execution_count": 15,
   "metadata": {},
   "outputs": [],
   "source": [
    "my_string_formatted = my_string.split() #Asigno el split generado en otra variable"
   ]
  },
  {
   "cell_type": "code",
   "execution_count": 14,
   "metadata": {},
   "outputs": [
    {
     "data": {
      "text/plain": [
       "['As',\n",
       " 'I',\n",
       " 'was',\n",
       " 'going',\n",
       " 'to',\n",
       " 'St',\n",
       " 'Ives,',\n",
       " 'I',\n",
       " 'met',\n",
       " 'a',\n",
       " 'man',\n",
       " 'with',\n",
       " 'seven',\n",
       " 'wives.']"
      ]
     },
     "execution_count": 14,
     "metadata": {},
     "output_type": "execute_result"
    }
   ],
   "source": [
    "my_string_formatted"
   ]
  },
  {
   "cell_type": "code",
   "execution_count": 18,
   "metadata": {},
   "outputs": [
    {
     "data": {
      "text/plain": [
       "3"
      ]
     },
     "execution_count": 18,
     "metadata": {},
     "output_type": "execute_result"
    }
   ],
   "source": [
    "#Utilizo .count() para contar la cantidad de veces que aparece el argumento considerado\n",
    "\n",
    "my_string.count(\"a\") "
   ]
  },
  {
   "cell_type": "code",
   "execution_count": 20,
   "metadata": {},
   "outputs": [
    {
     "data": {
      "text/plain": [
       "44"
      ]
     },
     "execution_count": 20,
     "metadata": {},
     "output_type": "execute_result"
    }
   ],
   "source": [
    "#Utilizo .find() para obtener en que indice comienza el argumento que coloco entre parentesis ()\n",
    "\n",
    "my_string.find(\"seven\")"
   ]
  }
 ],
 "metadata": {
  "kernelspec": {
   "display_name": "Python 3",
   "language": "python",
   "name": "python3"
  },
  "language_info": {
   "codemirror_mode": {
    "name": "ipython",
    "version": 3
   },
   "file_extension": ".py",
   "mimetype": "text/x-python",
   "name": "python",
   "nbconvert_exporter": "python",
   "pygments_lexer": "ipython3",
   "version": "3.6.5"
  }
 },
 "nbformat": 4,
 "nbformat_minor": 2
}
