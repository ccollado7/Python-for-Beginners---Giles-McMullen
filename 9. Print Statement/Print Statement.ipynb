{
 "cells": [
  {
   "cell_type": "markdown",
   "metadata": {},
   "source": [
    "# Print Statement"
   ]
  },
  {
   "cell_type": "markdown",
   "metadata": {},
   "source": [
    "This lesson covers the replace() method for strings and print statements. "
   ]
  },
  {
   "cell_type": "markdown",
   "metadata": {},
   "source": [
    "# *Tema pendiente de leccion anterior de strings"
   ]
  },
  {
   "cell_type": "code",
   "execution_count": 2,
   "metadata": {},
   "outputs": [],
   "source": [
    "#Defino el string con el que voy a trabajar\n",
    "\n",
    "my_string = \"As I was going to St Ives, I met a man with seven vives\""
   ]
  },
  {
   "cell_type": "code",
   "execution_count": 4,
   "metadata": {},
   "outputs": [
    {
     "data": {
      "text/plain": [
       "'As I was going to St Ives, I met a man with eight vives'"
      ]
     },
     "execution_count": 4,
     "metadata": {},
     "output_type": "execute_result"
    }
   ],
   "source": [
    "#Utilizo el metodo REPLACE\n",
    "#En este caso reemplazo la palabra \"seven\" por \"eight\"\n",
    "\n",
    "my_string.replace(\"seven\",\"eight\")"
   ]
  },
  {
   "cell_type": "markdown",
   "metadata": {},
   "source": [
    "# * Continuo con la leccion N°9 - Print Statement"
   ]
  },
  {
   "cell_type": "code",
   "execution_count": 9,
   "metadata": {},
   "outputs": [
    {
     "name": "stdout",
     "output_type": "stream",
     "text": [
      "My name is Claudio\n"
     ]
    }
   ],
   "source": [
    "#Imprimo mi nombre\n",
    "\n",
    "print(\"My name is Claudio\")"
   ]
  },
  {
   "cell_type": "code",
   "execution_count": 10,
   "metadata": {},
   "outputs": [],
   "source": [
    "#Incluyo ni nombre en una variable para ser utilizada posteriormente\n",
    "\n",
    "my_name = \"Claudio\""
   ]
  },
  {
   "cell_type": "code",
   "execution_count": 12,
   "metadata": {},
   "outputs": [
    {
     "name": "stdout",
     "output_type": "stream",
     "text": [
      "My name is Claudio\n"
     ]
    }
   ],
   "source": [
    "#Utilizo la variable definida anteriormente para armar una frase\n",
    "\n",
    "print(\"My name is\", my_name) #De esta forma, utilizando la coma, todo queda en la misma linea"
   ]
  },
  {
   "cell_type": "code",
   "execution_count": 15,
   "metadata": {},
   "outputs": [
    {
     "name": "stdout",
     "output_type": "stream",
     "text": [
      "My name is\n",
      " Claudio\n"
     ]
    }
   ],
   "source": [
    "#Utilizando \\n logro que la frase se coloque en 2 lineas diferentes\n",
    "\n",
    "print(\"My name is\\n Claudio\")"
   ]
  },
  {
   "cell_type": "code",
   "execution_count": 17,
   "metadata": {},
   "outputs": [
    {
     "name": "stdout",
     "output_type": "stream",
     "text": [
      "While I´m away I will do a lot walking\n"
     ]
    }
   ],
   "source": [
    "#El uso de comillas dobles  \"\" evita la confucion del print en caso que se utilize un apostrofe\n",
    "\n",
    "print(\"While I´m away I will do a lot walking\")"
   ]
  }
 ],
 "metadata": {
  "kernelspec": {
   "display_name": "Python 3",
   "language": "python",
   "name": "python3"
  },
  "language_info": {
   "codemirror_mode": {
    "name": "ipython",
    "version": 3
   },
   "file_extension": ".py",
   "mimetype": "text/x-python",
   "name": "python",
   "nbconvert_exporter": "python",
   "pygments_lexer": "ipython3",
   "version": "3.7.1"
  }
 },
 "nbformat": 4,
 "nbformat_minor": 2
}
