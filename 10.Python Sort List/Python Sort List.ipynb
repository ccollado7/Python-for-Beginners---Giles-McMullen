{
 "cells": [
  {
   "cell_type": "markdown",
   "metadata": {},
   "source": [
    "# Python Sort List"
   ]
  },
  {
   "cell_type": "markdown",
   "metadata": {},
   "source": [
    "We look at the sort() method for python lists. This tutorial specifically looks at the sort() function applied to lists of strings and lists of strings and integers."
   ]
  },
  {
   "cell_type": "code",
   "execution_count": 12,
   "metadata": {},
   "outputs": [],
   "source": [
    "word_list = [\"Apples\",\"and\",\"pears\",\"Make\",\"a\",\"very\",\"volatile\",\"combination\",\"of\",\"comestibles\"]"
   ]
  },
  {
   "cell_type": "code",
   "execution_count": 13,
   "metadata": {},
   "outputs": [],
   "source": [
    "#Utilizo el metodo SORT\n",
    "\n",
    "word_list.sort()\n",
    "\n",
    "# The sort() method sorts the elements of a given list in a specific order - Ascending or Descending"
   ]
  },
  {
   "cell_type": "code",
   "execution_count": 14,
   "metadata": {},
   "outputs": [
    {
     "data": {
      "text/plain": [
       "['Apples',\n",
       " 'Make',\n",
       " 'a',\n",
       " 'and',\n",
       " 'combination',\n",
       " 'comestibles',\n",
       " 'of',\n",
       " 'pears',\n",
       " 'very',\n",
       " 'volatile']"
      ]
     },
     "execution_count": 14,
     "metadata": {},
     "output_type": "execute_result"
    }
   ],
   "source": [
    "word_list"
   ]
  },
  {
   "cell_type": "markdown",
   "metadata": {},
   "source": [
    "Segun se observa del ejemplo anterior se ordena segun las siguientes reglas:\n",
    "\n",
    "1) Las palabras que comienzan con mayusculas en orden alfabetico descendente\n",
    "\n",
    "2) Las palabras que comienzan en minuscula en orden alfabetico descendente"
   ]
  },
  {
   "cell_type": "code",
   "execution_count": 15,
   "metadata": {},
   "outputs": [],
   "source": [
    "#Utilizo el metodo REVERSE para revertir el orden en el cual se muestra la lista\n",
    "\n",
    "word_list.reverse()\n",
    "\n",
    "#The method reverse() reverses objects of list in place."
   ]
  },
  {
   "cell_type": "code",
   "execution_count": 16,
   "metadata": {},
   "outputs": [
    {
     "data": {
      "text/plain": [
       "['volatile',\n",
       " 'very',\n",
       " 'pears',\n",
       " 'of',\n",
       " 'comestibles',\n",
       " 'combination',\n",
       " 'and',\n",
       " 'a',\n",
       " 'Make',\n",
       " 'Apples']"
      ]
     },
     "execution_count": 16,
     "metadata": {},
     "output_type": "execute_result"
    }
   ],
   "source": [
    "word_list"
   ]
  },
  {
   "cell_type": "code",
   "execution_count": 20,
   "metadata": {},
   "outputs": [],
   "source": [
    "#Utilizo el metodo INSERT para definir la posicion y el elemento especifico a insertar\n",
    "\n",
    "#En este caso inserto en la posicion de indice 6 el sting 18\n",
    "\n",
    "word_list.insert(6,\"18\")"
   ]
  },
  {
   "cell_type": "code",
   "execution_count": 18,
   "metadata": {},
   "outputs": [
    {
     "data": {
      "text/plain": [
       "['volatile',\n",
       " 'very',\n",
       " 'pears',\n",
       " 'of',\n",
       " 'comestibles',\n",
       " 'combination',\n",
       " '18',\n",
       " 'and',\n",
       " 'a',\n",
       " 'Make',\n",
       " 'Apples']"
      ]
     },
     "execution_count": 18,
     "metadata": {},
     "output_type": "execute_result"
    }
   ],
   "source": [
    "word_list #Veo como se modifico la lista y se encuentra insertado el elemento 18"
   ]
  },
  {
   "cell_type": "markdown",
   "metadata": {},
   "source": [
    "Segun se observa la totalidad de la lista son strings"
   ]
  },
  {
   "cell_type": "code",
   "execution_count": 21,
   "metadata": {},
   "outputs": [],
   "source": [
    "#Realizo un ordenamiento de la lista\n",
    "\n",
    "#Segun se observa en el resultado el string con numero ahora se lista como primer elemento\n",
    "\n",
    "word_list.sort()"
   ]
  },
  {
   "cell_type": "code",
   "execution_count": 22,
   "metadata": {},
   "outputs": [
    {
     "data": {
      "text/plain": [
       "['18',\n",
       " '18',\n",
       " 'Apples',\n",
       " 'Make',\n",
       " 'a',\n",
       " 'and',\n",
       " 'combination',\n",
       " 'comestibles',\n",
       " 'of',\n",
       " 'pears',\n",
       " 'very',\n",
       " 'volatile']"
      ]
     },
     "execution_count": 22,
     "metadata": {},
     "output_type": "execute_result"
    }
   ],
   "source": [
    "word_list"
   ]
  },
  {
   "cell_type": "code",
   "execution_count": 23,
   "metadata": {},
   "outputs": [],
   "source": [
    "word_list.insert (10,25)"
   ]
  },
  {
   "cell_type": "code",
   "execution_count": 24,
   "metadata": {},
   "outputs": [
    {
     "data": {
      "text/plain": [
       "['18',\n",
       " '18',\n",
       " 'Apples',\n",
       " 'Make',\n",
       " 'a',\n",
       " 'and',\n",
       " 'combination',\n",
       " 'comestibles',\n",
       " 'of',\n",
       " 'pears',\n",
       " 25,\n",
       " 'very',\n",
       " 'volatile']"
      ]
     },
     "execution_count": 24,
     "metadata": {},
     "output_type": "execute_result"
    }
   ],
   "source": [
    "word_list"
   ]
  },
  {
   "cell_type": "code",
   "execution_count": 26,
   "metadata": {},
   "outputs": [
    {
     "ename": "TypeError",
     "evalue": "'<' not supported between instances of 'int' and 'str'",
     "output_type": "error",
     "traceback": [
      "\u001b[1;31m---------------------------------------------------------------------------\u001b[0m",
      "\u001b[1;31mTypeError\u001b[0m                                 Traceback (most recent call last)",
      "\u001b[1;32m<ipython-input-26-2d18f71a4154>\u001b[0m in \u001b[0;36m<module>\u001b[1;34m\u001b[0m\n\u001b[0;32m      3\u001b[0m \u001b[1;31m#Segun se vera el metodo .sort() no permite manipular str y int en la misma lista\u001b[0m\u001b[1;33m\u001b[0m\u001b[1;33m\u001b[0m\u001b[1;33m\u001b[0m\u001b[0m\n\u001b[0;32m      4\u001b[0m \u001b[1;33m\u001b[0m\u001b[0m\n\u001b[1;32m----> 5\u001b[1;33m \u001b[0mword_list\u001b[0m\u001b[1;33m.\u001b[0m\u001b[0msort\u001b[0m\u001b[1;33m(\u001b[0m\u001b[1;33m)\u001b[0m\u001b[1;33m\u001b[0m\u001b[1;33m\u001b[0m\u001b[0m\n\u001b[0m",
      "\u001b[1;31mTypeError\u001b[0m: '<' not supported between instances of 'int' and 'str'"
     ]
    }
   ],
   "source": [
    "#En este caso inserto en la posicion de indice 6 el numero 18\n",
    "\n",
    "#Segun se vera el metodo .sort() no permite manipular str y int en la misma lista\n",
    "\n",
    "word_list.sort()"
   ]
  },
  {
   "cell_type": "markdown",
   "metadata": {},
   "source": [
    "Segun se observa se obtiene el error: TypeError: '<' not supported between instances of 'int' and 'str"
   ]
  }
 ],
 "metadata": {
  "kernelspec": {
   "display_name": "Python 3",
   "language": "python",
   "name": "python3"
  },
  "language_info": {
   "codemirror_mode": {
    "name": "ipython",
    "version": 3
   },
   "file_extension": ".py",
   "mimetype": "text/x-python",
   "name": "python",
   "nbconvert_exporter": "python",
   "pygments_lexer": "ipython3",
   "version": "3.7.1"
  }
 },
 "nbformat": 4,
 "nbformat_minor": 2
}
