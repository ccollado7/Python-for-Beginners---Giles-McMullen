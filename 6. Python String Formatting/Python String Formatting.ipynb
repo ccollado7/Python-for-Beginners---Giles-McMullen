{
 "cells": [
  {
   "cell_type": "markdown",
   "metadata": {},
   "source": [
    "# Python String Formatting"
   ]
  },
  {
   "cell_type": "markdown",
   "metadata": {},
   "source": [
    "String formatting: It's a short one that takes your name as an input and then prints the full name plus the number of characters. We use raw_input() for the first time and string formatting is also covered. We take a look at functions: how they work and why they are useful"
   ]
  },
  {
   "cell_type": "code",
   "execution_count": 7,
   "metadata": {},
   "outputs": [
    {
     "name": "stdout",
     "output_type": "stream",
     "text": [
      "What is your first name?: \n",
      "What is your surname?: \n",
      "Your full name is  \n",
      "Your name has 0 characters\n"
     ]
    }
   ],
   "source": [
    "# imput() lee una línea de la entrada de la entrada estándar y la retorna en crudo en un objeto str\n",
    "\n",
    "first_name = input(\"What is your first name?: \")\n",
    "surname = input(\"What is your surname?: \")\n",
    "print(\"Your full name is {} {}\".format(first_name,surname))\n",
    "print(\"Your name has {} characters\".format(len(first_name)+len(surname)))"
   ]
  },
  {
   "cell_type": "markdown",
   "metadata": {},
   "source": [
    "Una funcion permite introducir un \"bloque de codigo\" que luego puede ser reutilizado reiteradas veces.\n",
    "\n",
    "La definicion de una funcion comienza con la palabra reservada DEF"
   ]
  },
  {
   "cell_type": "code",
   "execution_count": 11,
   "metadata": {},
   "outputs": [],
   "source": [
    "def name_lenght():\n",
    "    first_name = input(\"What is your first name?: \")\n",
    "    surname = input(\"What is your surname?: \")\n",
    "    print(\"Your full name is {} {}\".format(first_name,surname))\n",
    "    print(\"Your name has {} characters\".format(len(first_name)+len(surname)))\n",
    "    return"
   ]
  },
  {
   "cell_type": "code",
   "execution_count": 12,
   "metadata": {},
   "outputs": [
    {
     "name": "stdout",
     "output_type": "stream",
     "text": [
      "What is your first name?: Claudio\n",
      "What is your surname?: Collado\n",
      "Your full name is Claudio Collado\n",
      "Your name has 14 characters\n"
     ]
    }
   ],
   "source": [
    "name_lenght()"
   ]
  },
  {
   "cell_type": "code",
   "execution_count": 13,
   "metadata": {},
   "outputs": [
    {
     "name": "stdout",
     "output_type": "stream",
     "text": [
      "What is your first name?: Angela\n",
      "What is your surname?: Aschemager\n",
      "Your full name is Angela Aschemager\n",
      "Your name has 16 characters\n"
     ]
    }
   ],
   "source": [
    "name_lenght()"
   ]
  },
  {
   "cell_type": "markdown",
   "metadata": {},
   "source": [
    "Como se observa el uso de funciones permite reutilizar codigo de forma tal de NO repetir la realizacion de codigo para operaciones similares"
   ]
  },
  {
   "cell_type": "code",
   "execution_count": null,
   "metadata": {},
   "outputs": [],
   "source": []
  }
 ],
 "metadata": {
  "kernelspec": {
   "display_name": "Python 3",
   "language": "python",
   "name": "python3"
  }
 },
 "nbformat": 4,
 "nbformat_minor": 2
}
